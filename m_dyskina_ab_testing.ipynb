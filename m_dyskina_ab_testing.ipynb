{
  "cells": [
    {
      "cell_type": "code",
      "source": [
        "import pandas as pd\n",
        "import numpy as np\n",
        "import matplotlib.pyplot as plt\n",
        "import scipy as sp"
      ],
      "metadata": {
        "id": "Of7L1OK6jEKT"
      },
      "id": "Of7L1OK6jEKT",
      "execution_count": null,
      "outputs": []
    },
    {
      "cell_type": "markdown",
      "id": "1fb036f5",
      "metadata": {
        "id": "1fb036f5"
      },
      "source": [
        "------------------"
      ]
    },
    {
      "cell_type": "markdown",
      "id": "d8c6f14f",
      "metadata": {
        "id": "d8c6f14f"
      },
      "source": [
        "##  <ins>Задание 1.</ins>"
      ]
    },
    {
      "cell_type": "markdown",
      "source": [
        "### 0. Запосить у бота в Телеграме условие командой `/get_project1_desc`."
      ],
      "metadata": {
        "id": "cMi1ZWvej6zB"
      },
      "id": "cMi1ZWvej6zB"
    },
    {
      "cell_type": "markdown",
      "id": "0dd4c840",
      "metadata": {
        "id": "0dd4c840"
      },
      "source": [
        "### 1. Необходимо выбрать метрику и привести аргументацию."
      ]
    },
    {
      "cell_type": "markdown",
      "source": [
        "Целевая метрика - расходы на задание (т.к. цель теста - снижение расходов на задание). Расходы на задание = (сумма всех расходов)/(кол-во заданий).\n",
        "Контрольная метрика - среднее значение дохода с задания (контрольная метрика должна указать в случае чего на негативное влияние теста) = (сумма NVP)/(кол-во заданий)"
      ],
      "metadata": {
        "id": "KAVKm5-8Yuby"
      },
      "id": "KAVKm5-8Yuby"
    },
    {
      "cell_type": "code",
      "source": [
        "hist_telesales = pd.read_csv('hist_telesales.csv')\n",
        "hist_telesales.head(5)"
      ],
      "metadata": {
        "id": "vG7kmtMEjHOU",
        "outputId": "7528d6f6-bf2c-453a-de50-d265f412b660",
        "colab": {
          "base_uri": "https://localhost:8080/",
          "height": 214
        }
      },
      "id": "vG7kmtMEjHOU",
      "execution_count": null,
      "outputs": [
        {
          "output_type": "execute_result",
          "data": {
            "text/plain": [
              "   ID  Флаг дозвона  Флаг продажи  Расходы  PV  NPV\n",
              "0   0             1             0       90   0  -90\n",
              "1   1             0             0        5   0   -5\n",
              "2   2             0             0       68   0  -68\n",
              "3   3             1             0       22   0  -22\n",
              "4   4             1             0       22   0  -22"
            ],
            "text/html": [
              "\n",
              "  <div id=\"df-76bad7a7-6883-4f55-9313-bec9031c3ba0\">\n",
              "    <div class=\"colab-df-container\">\n",
              "      <div>\n",
              "<style scoped>\n",
              "    .dataframe tbody tr th:only-of-type {\n",
              "        vertical-align: middle;\n",
              "    }\n",
              "\n",
              "    .dataframe tbody tr th {\n",
              "        vertical-align: top;\n",
              "    }\n",
              "\n",
              "    .dataframe thead th {\n",
              "        text-align: right;\n",
              "    }\n",
              "</style>\n",
              "<table border=\"1\" class=\"dataframe\">\n",
              "  <thead>\n",
              "    <tr style=\"text-align: right;\">\n",
              "      <th></th>\n",
              "      <th>ID</th>\n",
              "      <th>Флаг дозвона</th>\n",
              "      <th>Флаг продажи</th>\n",
              "      <th>Расходы</th>\n",
              "      <th>PV</th>\n",
              "      <th>NPV</th>\n",
              "    </tr>\n",
              "  </thead>\n",
              "  <tbody>\n",
              "    <tr>\n",
              "      <th>0</th>\n",
              "      <td>0</td>\n",
              "      <td>1</td>\n",
              "      <td>0</td>\n",
              "      <td>90</td>\n",
              "      <td>0</td>\n",
              "      <td>-90</td>\n",
              "    </tr>\n",
              "    <tr>\n",
              "      <th>1</th>\n",
              "      <td>1</td>\n",
              "      <td>0</td>\n",
              "      <td>0</td>\n",
              "      <td>5</td>\n",
              "      <td>0</td>\n",
              "      <td>-5</td>\n",
              "    </tr>\n",
              "    <tr>\n",
              "      <th>2</th>\n",
              "      <td>2</td>\n",
              "      <td>0</td>\n",
              "      <td>0</td>\n",
              "      <td>68</td>\n",
              "      <td>0</td>\n",
              "      <td>-68</td>\n",
              "    </tr>\n",
              "    <tr>\n",
              "      <th>3</th>\n",
              "      <td>3</td>\n",
              "      <td>1</td>\n",
              "      <td>0</td>\n",
              "      <td>22</td>\n",
              "      <td>0</td>\n",
              "      <td>-22</td>\n",
              "    </tr>\n",
              "    <tr>\n",
              "      <th>4</th>\n",
              "      <td>4</td>\n",
              "      <td>1</td>\n",
              "      <td>0</td>\n",
              "      <td>22</td>\n",
              "      <td>0</td>\n",
              "      <td>-22</td>\n",
              "    </tr>\n",
              "  </tbody>\n",
              "</table>\n",
              "</div>\n",
              "      <button class=\"colab-df-convert\" onclick=\"convertToInteractive('df-76bad7a7-6883-4f55-9313-bec9031c3ba0')\"\n",
              "              title=\"Convert this dataframe to an interactive table.\"\n",
              "              style=\"display:none;\">\n",
              "        \n",
              "  <svg xmlns=\"http://www.w3.org/2000/svg\" height=\"24px\"viewBox=\"0 0 24 24\"\n",
              "       width=\"24px\">\n",
              "    <path d=\"M0 0h24v24H0V0z\" fill=\"none\"/>\n",
              "    <path d=\"M18.56 5.44l.94 2.06.94-2.06 2.06-.94-2.06-.94-.94-2.06-.94 2.06-2.06.94zm-11 1L8.5 8.5l.94-2.06 2.06-.94-2.06-.94L8.5 2.5l-.94 2.06-2.06.94zm10 10l.94 2.06.94-2.06 2.06-.94-2.06-.94-.94-2.06-.94 2.06-2.06.94z\"/><path d=\"M17.41 7.96l-1.37-1.37c-.4-.4-.92-.59-1.43-.59-.52 0-1.04.2-1.43.59L10.3 9.45l-7.72 7.72c-.78.78-.78 2.05 0 2.83L4 21.41c.39.39.9.59 1.41.59.51 0 1.02-.2 1.41-.59l7.78-7.78 2.81-2.81c.8-.78.8-2.07 0-2.86zM5.41 20L4 18.59l7.72-7.72 1.47 1.35L5.41 20z\"/>\n",
              "  </svg>\n",
              "      </button>\n",
              "      \n",
              "  <style>\n",
              "    .colab-df-container {\n",
              "      display:flex;\n",
              "      flex-wrap:wrap;\n",
              "      gap: 12px;\n",
              "    }\n",
              "\n",
              "    .colab-df-convert {\n",
              "      background-color: #E8F0FE;\n",
              "      border: none;\n",
              "      border-radius: 50%;\n",
              "      cursor: pointer;\n",
              "      display: none;\n",
              "      fill: #1967D2;\n",
              "      height: 32px;\n",
              "      padding: 0 0 0 0;\n",
              "      width: 32px;\n",
              "    }\n",
              "\n",
              "    .colab-df-convert:hover {\n",
              "      background-color: #E2EBFA;\n",
              "      box-shadow: 0px 1px 2px rgba(60, 64, 67, 0.3), 0px 1px 3px 1px rgba(60, 64, 67, 0.15);\n",
              "      fill: #174EA6;\n",
              "    }\n",
              "\n",
              "    [theme=dark] .colab-df-convert {\n",
              "      background-color: #3B4455;\n",
              "      fill: #D2E3FC;\n",
              "    }\n",
              "\n",
              "    [theme=dark] .colab-df-convert:hover {\n",
              "      background-color: #434B5C;\n",
              "      box-shadow: 0px 1px 3px 1px rgba(0, 0, 0, 0.15);\n",
              "      filter: drop-shadow(0px 1px 2px rgba(0, 0, 0, 0.3));\n",
              "      fill: #FFFFFF;\n",
              "    }\n",
              "  </style>\n",
              "\n",
              "      <script>\n",
              "        const buttonEl =\n",
              "          document.querySelector('#df-76bad7a7-6883-4f55-9313-bec9031c3ba0 button.colab-df-convert');\n",
              "        buttonEl.style.display =\n",
              "          google.colab.kernel.accessAllowed ? 'block' : 'none';\n",
              "\n",
              "        async function convertToInteractive(key) {\n",
              "          const element = document.querySelector('#df-76bad7a7-6883-4f55-9313-bec9031c3ba0');\n",
              "          const dataTable =\n",
              "            await google.colab.kernel.invokeFunction('convertToInteractive',\n",
              "                                                     [key], {});\n",
              "          if (!dataTable) return;\n",
              "\n",
              "          const docLinkHtml = 'Like what you see? Visit the ' +\n",
              "            '<a target=\"_blank\" href=https://colab.research.google.com/notebooks/data_table.ipynb>data table notebook</a>'\n",
              "            + ' to learn more about interactive tables.';\n",
              "          element.innerHTML = '';\n",
              "          dataTable['output_type'] = 'display_data';\n",
              "          await google.colab.output.renderOutput(dataTable, element);\n",
              "          const docLink = document.createElement('div');\n",
              "          docLink.innerHTML = docLinkHtml;\n",
              "          element.appendChild(docLink);\n",
              "        }\n",
              "      </script>\n",
              "    </div>\n",
              "  </div>\n",
              "  "
            ]
          },
          "metadata": {},
          "execution_count": 3
        }
      ]
    },
    {
      "cell_type": "markdown",
      "id": "b644cd0a",
      "metadata": {
        "id": "b644cd0a"
      },
      "source": [
        "### 2. Альтернатива в критерии."
      ]
    },
    {
      "cell_type": "markdown",
      "source": [
        "Предположение (гипотеза) о том, что среднее число расходов на задание снизится после внедрения системы,\n",
        "которая будет сама звонить человеку\n",
        "и в случае успеха перенаправлять задание оператору.\n"
      ],
      "metadata": {
        "id": "vrPTJ6eGY-8I"
      },
      "id": "vrPTJ6eGY-8I"
    },
    {
      "cell_type": "markdown",
      "id": "727aefc4",
      "metadata": {
        "id": "727aefc4"
      },
      "source": [
        "### 3.1. Каков размер выборки? Привести аргументацию и написать как получилось то или иное число."
      ]
    },
    {
      "cell_type": "markdown",
      "source": [
        "Односторонняя альтернатива.\n",
        "Размер выборки был выведен с использованием формулы из лекции. Размер теста был выбран равным размеру контроля."
      ],
      "metadata": {
        "id": "sRNsGl4VZbZN"
      },
      "id": "sRNsGl4VZbZN"
    },
    {
      "cell_type": "code",
      "source": [
        "prob = 0.90\n",
        "imp_crit = 0.05\n",
        "uplift = 0.05\n",
        "k = 0.5\n",
        "\n",
        "average_cost = hist_telesales['Расходы'].mean()\n",
        "std_cost = hist_telesales['Расходы'].std()\n",
        "uplift_cost = average_cost * uplift\n",
        "\n",
        "z_alpha = sp.stats.norm.ppf(1 - imp_crit)\n",
        "z_beta = sp.stats.norm.ppf(prob)\n",
        "\n",
        "selection_test = ((z_alpha - z_beta)**2) * (std_cost**2) / (k * uplift_cost**2)\n",
        "selection_control = ((z_alpha - z_beta)**2) * (std_cost**2) / ((1 - k) * uplift_cost**2)\n",
        "\n",
        "print('Размер выборки тест:', round(selection_test))\n",
        "print('Размер выборки контроль:', round(selection_test))\n",
        "print('Размер выборки всего:', round(selection_test) + round(selection_control))"
      ],
      "metadata": {
        "id": "fYijOurfjLNp",
        "outputId": "2913caac-e384-4fa7-fc38-adbac5e1fc0d",
        "colab": {
          "base_uri": "https://localhost:8080/"
        }
      },
      "id": "fYijOurfjLNp",
      "execution_count": null,
      "outputs": [
        {
          "output_type": "stream",
          "name": "stdout",
          "text": [
            "Размер выборки тест: 347\n",
            "Размер выборки контроль: 347\n",
            "Размер выборки всего: 694\n"
          ]
        }
      ]
    },
    {
      "cell_type": "markdown",
      "id": "8df8ee73",
      "metadata": {
        "id": "8df8ee73"
      },
      "source": [
        "### 3.2. Необходимо запросить у бота в Телеграме выборку полученного размера командой `/get_project1_sample {размер выборки}` и вписать <ins>код выборки</ins>:\n",
        "36682"
      ]
    },
    {
      "cell_type": "code",
      "source": [
        "control = pd.read_csv('Контроль.csv')\n",
        "test = pd.read_csv('Тест.csv')\n",
        "\n",
        "control.head(10)"
      ],
      "metadata": {
        "id": "9vCrM3wcjM0H",
        "outputId": "70c8421e-61ce-413e-b6ae-42cafa219a96",
        "colab": {
          "base_uri": "https://localhost:8080/",
          "height": 363
        }
      },
      "id": "9vCrM3wcjM0H",
      "execution_count": null,
      "outputs": [
        {
          "output_type": "execute_result",
          "data": {
            "text/plain": [
              "   ID  Флаг дозвона  Флаг продажи  Расходы  PV  NPV\n",
              "0   0             0             0        2   0   -2\n",
              "1   1             0             0       55   0  -55\n",
              "2   2             1             0       19   0  -19\n",
              "3   3             1             0       11   0  -11\n",
              "4   4             1             0        8   0   -8\n",
              "5   5             1             0       20   0  -20\n",
              "6   6             1             0       12   0  -12\n",
              "7   7             0             0       39   0  -39\n",
              "8   8             1             0        7   0   -7\n",
              "9   9             0             0       57   0  -57"
            ],
            "text/html": [
              "\n",
              "  <div id=\"df-28d40d6f-c664-49b1-8a1e-4988212042c1\">\n",
              "    <div class=\"colab-df-container\">\n",
              "      <div>\n",
              "<style scoped>\n",
              "    .dataframe tbody tr th:only-of-type {\n",
              "        vertical-align: middle;\n",
              "    }\n",
              "\n",
              "    .dataframe tbody tr th {\n",
              "        vertical-align: top;\n",
              "    }\n",
              "\n",
              "    .dataframe thead th {\n",
              "        text-align: right;\n",
              "    }\n",
              "</style>\n",
              "<table border=\"1\" class=\"dataframe\">\n",
              "  <thead>\n",
              "    <tr style=\"text-align: right;\">\n",
              "      <th></th>\n",
              "      <th>ID</th>\n",
              "      <th>Флаг дозвона</th>\n",
              "      <th>Флаг продажи</th>\n",
              "      <th>Расходы</th>\n",
              "      <th>PV</th>\n",
              "      <th>NPV</th>\n",
              "    </tr>\n",
              "  </thead>\n",
              "  <tbody>\n",
              "    <tr>\n",
              "      <th>0</th>\n",
              "      <td>0</td>\n",
              "      <td>0</td>\n",
              "      <td>0</td>\n",
              "      <td>2</td>\n",
              "      <td>0</td>\n",
              "      <td>-2</td>\n",
              "    </tr>\n",
              "    <tr>\n",
              "      <th>1</th>\n",
              "      <td>1</td>\n",
              "      <td>0</td>\n",
              "      <td>0</td>\n",
              "      <td>55</td>\n",
              "      <td>0</td>\n",
              "      <td>-55</td>\n",
              "    </tr>\n",
              "    <tr>\n",
              "      <th>2</th>\n",
              "      <td>2</td>\n",
              "      <td>1</td>\n",
              "      <td>0</td>\n",
              "      <td>19</td>\n",
              "      <td>0</td>\n",
              "      <td>-19</td>\n",
              "    </tr>\n",
              "    <tr>\n",
              "      <th>3</th>\n",
              "      <td>3</td>\n",
              "      <td>1</td>\n",
              "      <td>0</td>\n",
              "      <td>11</td>\n",
              "      <td>0</td>\n",
              "      <td>-11</td>\n",
              "    </tr>\n",
              "    <tr>\n",
              "      <th>4</th>\n",
              "      <td>4</td>\n",
              "      <td>1</td>\n",
              "      <td>0</td>\n",
              "      <td>8</td>\n",
              "      <td>0</td>\n",
              "      <td>-8</td>\n",
              "    </tr>\n",
              "    <tr>\n",
              "      <th>5</th>\n",
              "      <td>5</td>\n",
              "      <td>1</td>\n",
              "      <td>0</td>\n",
              "      <td>20</td>\n",
              "      <td>0</td>\n",
              "      <td>-20</td>\n",
              "    </tr>\n",
              "    <tr>\n",
              "      <th>6</th>\n",
              "      <td>6</td>\n",
              "      <td>1</td>\n",
              "      <td>0</td>\n",
              "      <td>12</td>\n",
              "      <td>0</td>\n",
              "      <td>-12</td>\n",
              "    </tr>\n",
              "    <tr>\n",
              "      <th>7</th>\n",
              "      <td>7</td>\n",
              "      <td>0</td>\n",
              "      <td>0</td>\n",
              "      <td>39</td>\n",
              "      <td>0</td>\n",
              "      <td>-39</td>\n",
              "    </tr>\n",
              "    <tr>\n",
              "      <th>8</th>\n",
              "      <td>8</td>\n",
              "      <td>1</td>\n",
              "      <td>0</td>\n",
              "      <td>7</td>\n",
              "      <td>0</td>\n",
              "      <td>-7</td>\n",
              "    </tr>\n",
              "    <tr>\n",
              "      <th>9</th>\n",
              "      <td>9</td>\n",
              "      <td>0</td>\n",
              "      <td>0</td>\n",
              "      <td>57</td>\n",
              "      <td>0</td>\n",
              "      <td>-57</td>\n",
              "    </tr>\n",
              "  </tbody>\n",
              "</table>\n",
              "</div>\n",
              "      <button class=\"colab-df-convert\" onclick=\"convertToInteractive('df-28d40d6f-c664-49b1-8a1e-4988212042c1')\"\n",
              "              title=\"Convert this dataframe to an interactive table.\"\n",
              "              style=\"display:none;\">\n",
              "        \n",
              "  <svg xmlns=\"http://www.w3.org/2000/svg\" height=\"24px\"viewBox=\"0 0 24 24\"\n",
              "       width=\"24px\">\n",
              "    <path d=\"M0 0h24v24H0V0z\" fill=\"none\"/>\n",
              "    <path d=\"M18.56 5.44l.94 2.06.94-2.06 2.06-.94-2.06-.94-.94-2.06-.94 2.06-2.06.94zm-11 1L8.5 8.5l.94-2.06 2.06-.94-2.06-.94L8.5 2.5l-.94 2.06-2.06.94zm10 10l.94 2.06.94-2.06 2.06-.94-2.06-.94-.94-2.06-.94 2.06-2.06.94z\"/><path d=\"M17.41 7.96l-1.37-1.37c-.4-.4-.92-.59-1.43-.59-.52 0-1.04.2-1.43.59L10.3 9.45l-7.72 7.72c-.78.78-.78 2.05 0 2.83L4 21.41c.39.39.9.59 1.41.59.51 0 1.02-.2 1.41-.59l7.78-7.78 2.81-2.81c.8-.78.8-2.07 0-2.86zM5.41 20L4 18.59l7.72-7.72 1.47 1.35L5.41 20z\"/>\n",
              "  </svg>\n",
              "      </button>\n",
              "      \n",
              "  <style>\n",
              "    .colab-df-container {\n",
              "      display:flex;\n",
              "      flex-wrap:wrap;\n",
              "      gap: 12px;\n",
              "    }\n",
              "\n",
              "    .colab-df-convert {\n",
              "      background-color: #E8F0FE;\n",
              "      border: none;\n",
              "      border-radius: 50%;\n",
              "      cursor: pointer;\n",
              "      display: none;\n",
              "      fill: #1967D2;\n",
              "      height: 32px;\n",
              "      padding: 0 0 0 0;\n",
              "      width: 32px;\n",
              "    }\n",
              "\n",
              "    .colab-df-convert:hover {\n",
              "      background-color: #E2EBFA;\n",
              "      box-shadow: 0px 1px 2px rgba(60, 64, 67, 0.3), 0px 1px 3px 1px rgba(60, 64, 67, 0.15);\n",
              "      fill: #174EA6;\n",
              "    }\n",
              "\n",
              "    [theme=dark] .colab-df-convert {\n",
              "      background-color: #3B4455;\n",
              "      fill: #D2E3FC;\n",
              "    }\n",
              "\n",
              "    [theme=dark] .colab-df-convert:hover {\n",
              "      background-color: #434B5C;\n",
              "      box-shadow: 0px 1px 3px 1px rgba(0, 0, 0, 0.15);\n",
              "      filter: drop-shadow(0px 1px 2px rgba(0, 0, 0, 0.3));\n",
              "      fill: #FFFFFF;\n",
              "    }\n",
              "  </style>\n",
              "\n",
              "      <script>\n",
              "        const buttonEl =\n",
              "          document.querySelector('#df-28d40d6f-c664-49b1-8a1e-4988212042c1 button.colab-df-convert');\n",
              "        buttonEl.style.display =\n",
              "          google.colab.kernel.accessAllowed ? 'block' : 'none';\n",
              "\n",
              "        async function convertToInteractive(key) {\n",
              "          const element = document.querySelector('#df-28d40d6f-c664-49b1-8a1e-4988212042c1');\n",
              "          const dataTable =\n",
              "            await google.colab.kernel.invokeFunction('convertToInteractive',\n",
              "                                                     [key], {});\n",
              "          if (!dataTable) return;\n",
              "\n",
              "          const docLinkHtml = 'Like what you see? Visit the ' +\n",
              "            '<a target=\"_blank\" href=https://colab.research.google.com/notebooks/data_table.ipynb>data table notebook</a>'\n",
              "            + ' to learn more about interactive tables.';\n",
              "          element.innerHTML = '';\n",
              "          dataTable['output_type'] = 'display_data';\n",
              "          await google.colab.output.renderOutput(dataTable, element);\n",
              "          const docLink = document.createElement('div');\n",
              "          docLink.innerHTML = docLinkHtml;\n",
              "          element.appendChild(docLink);\n",
              "        }\n",
              "      </script>\n",
              "    </div>\n",
              "  </div>\n",
              "  "
            ]
          },
          "metadata": {},
          "execution_count": 7
        }
      ]
    },
    {
      "cell_type": "code",
      "source": [
        "control = pd.read_csv('Контроль.csv')\n",
        "text = pd.read_csv('Тест.csv')\n",
        "\n",
        "imp_crit = 0.05\n",
        "t, p_value = sp.stats.ttest_ind(test['Расходы'], control['Расходы'], alternative='less', equal_var=False)\n",
        "print('p-value:', p_value)\n",
        "if (p_value <= imp_crit):\n",
        "  print(\"Новый алгоритм дал значимое улучшение\")\n",
        "  if (test['NPV'].mean() >= control['NPV'].mean()):\n",
        "    print(\"Контрольная метрика не ухудшилась, новый алгоритм можно запускать\")\n",
        "  else:\n",
        "    print(\"Контрольная метрика ухудшилась, новый алгоритм необходимо доработать\")\n",
        "else:\n",
        "  print(\"Новый алгоритм не дал значимого улучшения\")"
      ],
      "metadata": {
        "id": "ygK7Bwdyet4l",
        "outputId": "a14d7306-0e4b-48ec-a5b6-114755d90e79",
        "colab": {
          "base_uri": "https://localhost:8080/"
        }
      },
      "id": "ygK7Bwdyet4l",
      "execution_count": null,
      "outputs": [
        {
          "output_type": "stream",
          "name": "stdout",
          "text": [
            "p-value: 0.052310043206935226\n",
            "Новый алгоритм не дал значимого улучшения\n"
          ]
        }
      ]
    },
    {
      "cell_type": "markdown",
      "id": "22e2d9b0",
      "metadata": {
        "id": "22e2d9b0"
      },
      "source": [
        "### 4. Принятие решения. Расписать подробно с аргументами."
      ]
    },
    {
      "cell_type": "code",
      "source": [
        "Почти значимые результаты"
      ],
      "metadata": {
        "id": "C9NO-_o3jON1"
      },
      "id": "C9NO-_o3jON1",
      "execution_count": null,
      "outputs": []
    },
    {
      "cell_type": "markdown",
      "id": "f9e15111",
      "metadata": {
        "id": "f9e15111"
      },
      "source": [
        "------------------"
      ]
    },
    {
      "cell_type": "markdown",
      "id": "7ea196b1",
      "metadata": {
        "id": "7ea196b1"
      },
      "source": [
        "##  <ins>Задание 2.</ins>"
      ]
    },
    {
      "cell_type": "markdown",
      "source": [
        "### 0. Запосить у бота в Телеграме условие командой `/get_project2_desc`."
      ],
      "metadata": {
        "id": "M0mI4jfTkCk6"
      },
      "id": "M0mI4jfTkCk6"
    },
    {
      "cell_type": "code",
      "source": [
        "hist_credit = pd.read_csv('hist_credit_card.csv')\n",
        "hist_credit.head(10)"
      ],
      "metadata": {
        "id": "PhZtsJ81d2GL",
        "outputId": "811c6094-ae80-43f8-f3d8-9ec83d5673d4",
        "colab": {
          "base_uri": "https://localhost:8080/",
          "height": 363
        }
      },
      "id": "PhZtsJ81d2GL",
      "execution_count": null,
      "outputs": [
        {
          "output_type": "execute_result",
          "data": {
            "text/plain": [
              "   ID  Возраст  Доход клиента  Вероятность банкротства  Флаг утилизации счёта  \\\n",
              "0   0       19   21620.835463                 0.138061                      0   \n",
              "1   1       27   24897.990863                 0.035508                      1   \n",
              "2   2       50   23989.526947                 0.098793                      0   \n",
              "3   3       18   38442.409756                 0.365661                      1   \n",
              "4   4       24   21291.521612                 0.036909                      1   \n",
              "5   5       19   22957.947147                 0.021514                      1   \n",
              "6   6       27   22217.477344                 0.319460                      0   \n",
              "7   7       46   29584.430233                 0.324886                      1   \n",
              "8   8       27   21730.692059                 0.254344                      1   \n",
              "9   9       41   34909.175512                 0.017871                      1   \n",
              "\n",
              "   Расходы  PV КК  PV услуги    NPV  \n",
              "0      102      0          0   -102  \n",
              "1      409  11686       1754  13031  \n",
              "2       16      0          0    -16  \n",
              "3      788  13738       1578  14528  \n",
              "4     1048   6594       2213   7759  \n",
              "5      110  33316       1692  34898  \n",
              "6       57      0          0    -57  \n",
              "7      371   5859       2529   8017  \n",
              "8      712   9981       3758  13027  \n",
              "9      131   8794       5315  13978  "
            ],
            "text/html": [
              "\n",
              "  <div id=\"df-500371a8-b24b-42ec-ace8-5aa52870591e\">\n",
              "    <div class=\"colab-df-container\">\n",
              "      <div>\n",
              "<style scoped>\n",
              "    .dataframe tbody tr th:only-of-type {\n",
              "        vertical-align: middle;\n",
              "    }\n",
              "\n",
              "    .dataframe tbody tr th {\n",
              "        vertical-align: top;\n",
              "    }\n",
              "\n",
              "    .dataframe thead th {\n",
              "        text-align: right;\n",
              "    }\n",
              "</style>\n",
              "<table border=\"1\" class=\"dataframe\">\n",
              "  <thead>\n",
              "    <tr style=\"text-align: right;\">\n",
              "      <th></th>\n",
              "      <th>ID</th>\n",
              "      <th>Возраст</th>\n",
              "      <th>Доход клиента</th>\n",
              "      <th>Вероятность банкротства</th>\n",
              "      <th>Флаг утилизации счёта</th>\n",
              "      <th>Расходы</th>\n",
              "      <th>PV КК</th>\n",
              "      <th>PV услуги</th>\n",
              "      <th>NPV</th>\n",
              "    </tr>\n",
              "  </thead>\n",
              "  <tbody>\n",
              "    <tr>\n",
              "      <th>0</th>\n",
              "      <td>0</td>\n",
              "      <td>19</td>\n",
              "      <td>21620.835463</td>\n",
              "      <td>0.138061</td>\n",
              "      <td>0</td>\n",
              "      <td>102</td>\n",
              "      <td>0</td>\n",
              "      <td>0</td>\n",
              "      <td>-102</td>\n",
              "    </tr>\n",
              "    <tr>\n",
              "      <th>1</th>\n",
              "      <td>1</td>\n",
              "      <td>27</td>\n",
              "      <td>24897.990863</td>\n",
              "      <td>0.035508</td>\n",
              "      <td>1</td>\n",
              "      <td>409</td>\n",
              "      <td>11686</td>\n",
              "      <td>1754</td>\n",
              "      <td>13031</td>\n",
              "    </tr>\n",
              "    <tr>\n",
              "      <th>2</th>\n",
              "      <td>2</td>\n",
              "      <td>50</td>\n",
              "      <td>23989.526947</td>\n",
              "      <td>0.098793</td>\n",
              "      <td>0</td>\n",
              "      <td>16</td>\n",
              "      <td>0</td>\n",
              "      <td>0</td>\n",
              "      <td>-16</td>\n",
              "    </tr>\n",
              "    <tr>\n",
              "      <th>3</th>\n",
              "      <td>3</td>\n",
              "      <td>18</td>\n",
              "      <td>38442.409756</td>\n",
              "      <td>0.365661</td>\n",
              "      <td>1</td>\n",
              "      <td>788</td>\n",
              "      <td>13738</td>\n",
              "      <td>1578</td>\n",
              "      <td>14528</td>\n",
              "    </tr>\n",
              "    <tr>\n",
              "      <th>4</th>\n",
              "      <td>4</td>\n",
              "      <td>24</td>\n",
              "      <td>21291.521612</td>\n",
              "      <td>0.036909</td>\n",
              "      <td>1</td>\n",
              "      <td>1048</td>\n",
              "      <td>6594</td>\n",
              "      <td>2213</td>\n",
              "      <td>7759</td>\n",
              "    </tr>\n",
              "    <tr>\n",
              "      <th>5</th>\n",
              "      <td>5</td>\n",
              "      <td>19</td>\n",
              "      <td>22957.947147</td>\n",
              "      <td>0.021514</td>\n",
              "      <td>1</td>\n",
              "      <td>110</td>\n",
              "      <td>33316</td>\n",
              "      <td>1692</td>\n",
              "      <td>34898</td>\n",
              "    </tr>\n",
              "    <tr>\n",
              "      <th>6</th>\n",
              "      <td>6</td>\n",
              "      <td>27</td>\n",
              "      <td>22217.477344</td>\n",
              "      <td>0.319460</td>\n",
              "      <td>0</td>\n",
              "      <td>57</td>\n",
              "      <td>0</td>\n",
              "      <td>0</td>\n",
              "      <td>-57</td>\n",
              "    </tr>\n",
              "    <tr>\n",
              "      <th>7</th>\n",
              "      <td>7</td>\n",
              "      <td>46</td>\n",
              "      <td>29584.430233</td>\n",
              "      <td>0.324886</td>\n",
              "      <td>1</td>\n",
              "      <td>371</td>\n",
              "      <td>5859</td>\n",
              "      <td>2529</td>\n",
              "      <td>8017</td>\n",
              "    </tr>\n",
              "    <tr>\n",
              "      <th>8</th>\n",
              "      <td>8</td>\n",
              "      <td>27</td>\n",
              "      <td>21730.692059</td>\n",
              "      <td>0.254344</td>\n",
              "      <td>1</td>\n",
              "      <td>712</td>\n",
              "      <td>9981</td>\n",
              "      <td>3758</td>\n",
              "      <td>13027</td>\n",
              "    </tr>\n",
              "    <tr>\n",
              "      <th>9</th>\n",
              "      <td>9</td>\n",
              "      <td>41</td>\n",
              "      <td>34909.175512</td>\n",
              "      <td>0.017871</td>\n",
              "      <td>1</td>\n",
              "      <td>131</td>\n",
              "      <td>8794</td>\n",
              "      <td>5315</td>\n",
              "      <td>13978</td>\n",
              "    </tr>\n",
              "  </tbody>\n",
              "</table>\n",
              "</div>\n",
              "      <button class=\"colab-df-convert\" onclick=\"convertToInteractive('df-500371a8-b24b-42ec-ace8-5aa52870591e')\"\n",
              "              title=\"Convert this dataframe to an interactive table.\"\n",
              "              style=\"display:none;\">\n",
              "        \n",
              "  <svg xmlns=\"http://www.w3.org/2000/svg\" height=\"24px\"viewBox=\"0 0 24 24\"\n",
              "       width=\"24px\">\n",
              "    <path d=\"M0 0h24v24H0V0z\" fill=\"none\"/>\n",
              "    <path d=\"M18.56 5.44l.94 2.06.94-2.06 2.06-.94-2.06-.94-.94-2.06-.94 2.06-2.06.94zm-11 1L8.5 8.5l.94-2.06 2.06-.94-2.06-.94L8.5 2.5l-.94 2.06-2.06.94zm10 10l.94 2.06.94-2.06 2.06-.94-2.06-.94-.94-2.06-.94 2.06-2.06.94z\"/><path d=\"M17.41 7.96l-1.37-1.37c-.4-.4-.92-.59-1.43-.59-.52 0-1.04.2-1.43.59L10.3 9.45l-7.72 7.72c-.78.78-.78 2.05 0 2.83L4 21.41c.39.39.9.59 1.41.59.51 0 1.02-.2 1.41-.59l7.78-7.78 2.81-2.81c.8-.78.8-2.07 0-2.86zM5.41 20L4 18.59l7.72-7.72 1.47 1.35L5.41 20z\"/>\n",
              "  </svg>\n",
              "      </button>\n",
              "      \n",
              "  <style>\n",
              "    .colab-df-container {\n",
              "      display:flex;\n",
              "      flex-wrap:wrap;\n",
              "      gap: 12px;\n",
              "    }\n",
              "\n",
              "    .colab-df-convert {\n",
              "      background-color: #E8F0FE;\n",
              "      border: none;\n",
              "      border-radius: 50%;\n",
              "      cursor: pointer;\n",
              "      display: none;\n",
              "      fill: #1967D2;\n",
              "      height: 32px;\n",
              "      padding: 0 0 0 0;\n",
              "      width: 32px;\n",
              "    }\n",
              "\n",
              "    .colab-df-convert:hover {\n",
              "      background-color: #E2EBFA;\n",
              "      box-shadow: 0px 1px 2px rgba(60, 64, 67, 0.3), 0px 1px 3px 1px rgba(60, 64, 67, 0.15);\n",
              "      fill: #174EA6;\n",
              "    }\n",
              "\n",
              "    [theme=dark] .colab-df-convert {\n",
              "      background-color: #3B4455;\n",
              "      fill: #D2E3FC;\n",
              "    }\n",
              "\n",
              "    [theme=dark] .colab-df-convert:hover {\n",
              "      background-color: #434B5C;\n",
              "      box-shadow: 0px 1px 3px 1px rgba(0, 0, 0, 0.15);\n",
              "      filter: drop-shadow(0px 1px 2px rgba(0, 0, 0, 0.3));\n",
              "      fill: #FFFFFF;\n",
              "    }\n",
              "  </style>\n",
              "\n",
              "      <script>\n",
              "        const buttonEl =\n",
              "          document.querySelector('#df-500371a8-b24b-42ec-ace8-5aa52870591e button.colab-df-convert');\n",
              "        buttonEl.style.display =\n",
              "          google.colab.kernel.accessAllowed ? 'block' : 'none';\n",
              "\n",
              "        async function convertToInteractive(key) {\n",
              "          const element = document.querySelector('#df-500371a8-b24b-42ec-ace8-5aa52870591e');\n",
              "          const dataTable =\n",
              "            await google.colab.kernel.invokeFunction('convertToInteractive',\n",
              "                                                     [key], {});\n",
              "          if (!dataTable) return;\n",
              "\n",
              "          const docLinkHtml = 'Like what you see? Visit the ' +\n",
              "            '<a target=\"_blank\" href=https://colab.research.google.com/notebooks/data_table.ipynb>data table notebook</a>'\n",
              "            + ' to learn more about interactive tables.';\n",
              "          element.innerHTML = '';\n",
              "          dataTable['output_type'] = 'display_data';\n",
              "          await google.colab.output.renderOutput(dataTable, element);\n",
              "          const docLink = document.createElement('div');\n",
              "          docLink.innerHTML = docLinkHtml;\n",
              "          element.appendChild(docLink);\n",
              "        }\n",
              "      </script>\n",
              "    </div>\n",
              "  </div>\n",
              "  "
            ]
          },
          "metadata": {},
          "execution_count": 10
        }
      ]
    },
    {
      "cell_type": "markdown",
      "id": "e4691844",
      "metadata": {
        "id": "e4691844"
      },
      "source": [
        "### 1. Необходимо выбрать метрику и привести аргументацию."
      ]
    },
    {
      "cell_type": "markdown",
      "source": [
        "Целевая метрика - доходность КК + услуги: (сумма всех NPV)/ (количество заданий)\n",
        "Целевая метрика - показатель успешности компании.\n",
        "В качестве контрольной метрики можем проверить изменение среднее значение вероятности банкротства на утилизацию счёт: если средняя вероятность банкротства упадёт, то можно полагать, что новый алгоритм не сказался негативно на кредитовании, иначе банк может не захотеть внедрять новый алгоритм из-за рисков."
      ],
      "metadata": {
        "id": "c2_9Kv8kbbhv"
      },
      "id": "c2_9Kv8kbbhv"
    },
    {
      "cell_type": "markdown",
      "id": "e36b594c",
      "metadata": {
        "id": "e36b594c"
      },
      "source": [
        "### 2. Альтернатива в критерии."
      ]
    },
    {
      "cell_type": "markdown",
      "source": [
        "Альтернатива - это гипотеза что средняя доходность по КК + услугам увеличится\n",
        "\n"
      ],
      "metadata": {
        "id": "AFudpLNTd4Hq"
      },
      "id": "AFudpLNTd4Hq"
    },
    {
      "cell_type": "markdown",
      "id": "692b97f3",
      "metadata": {
        "id": "692b97f3"
      },
      "source": [
        "### 3. Нужно выбрать параметр(-ы), влияющий(-ие) на целевую метрику. Привести аргументацию."
      ]
    },
    {
      "cell_type": "markdown",
      "source": [
        "Доход клиента и вероятность банкротства влияют напрямую на целевую метрику. Более высокий доход значит что клиент с большей вероятностью будет утилизировать счёт, а так же что он с большей вероятностью приобретёт услугу и потратит на неё больше денег. Вероятность банкротства увеличивает шанс что мы потратим деньги на клиента, но он не сможет их вернуть, что негативно скажется на целевой метрике.\n",
        "Возраст клиента скорее всего не влияет напрямую на целевую метрику, но он может иметь корелляцию с вероятностью банкротства и с доходом клиента."
      ],
      "metadata": {
        "id": "C3p4Ax7FdncJ"
      },
      "id": "C3p4Ax7FdncJ"
    },
    {
      "cell_type": "code",
      "source": [],
      "metadata": {
        "id": "4bYv6W9ljUEg"
      },
      "id": "4bYv6W9ljUEg",
      "execution_count": null,
      "outputs": []
    },
    {
      "cell_type": "markdown",
      "id": "9b40ecbb",
      "metadata": {
        "id": "9b40ecbb"
      },
      "source": [
        "### 4.1. Каков размер выборки? Привести аргументацию и написать как получилось то или иное число."
      ]
    },
    {
      "cell_type": "code",
      "source": [
        "find_probability = 0.85\n",
        "imp_crit = 0.05\n",
        "uplift = 0.03\n",
        "k = 0.5\n",
        "\n",
        "average_NPV = hist_credit['NPV'].mean()\n",
        "std_NPV = hist_credit['NPV'].std()\n",
        "uplift_NPV = average_NPV * uplift\n",
        "\n",
        "z_alpha = sp.stats.norm.ppf(1 - imp_crit)\n",
        "z_beta = sp.stats.norm.ppf(find_probability)\n",
        "\n",
        "selection_test = ((z_alpha - z_beta)**2) * (std_NPV**2) / (k * uplift_NPV**2)\n",
        "selection_control = ((z_alpha - z_beta)**2) * (std_NPV**2) / ((1 - k) * uplift_NPV**2)\n",
        "\n",
        "print('Размер выборки тест:', round(selection_test))\n",
        "print('Размер выборки контроль:', round(selection_test))\n",
        "print('Размер выборки всего:', round(selection_test) + round(selection_control))"
      ],
      "metadata": {
        "id": "tk7WBLvmjSnM",
        "outputId": "02f389cc-ae9f-409b-f7e3-3bcc012a99de",
        "colab": {
          "base_uri": "https://localhost:8080/"
        }
      },
      "id": "tk7WBLvmjSnM",
      "execution_count": null,
      "outputs": [
        {
          "output_type": "stream",
          "name": "stdout",
          "text": [
            "Размер выборки тест: 5315\n",
            "Размер выборки контроль: 5315\n",
            "Размер выборки всего: 10630\n"
          ]
        }
      ]
    },
    {
      "cell_type": "markdown",
      "source": [
        "Односторонняя альтернатива.\n",
        "Размер выборки был выведен с использованием формулы из лекции. Размер теста был выбран равным размеру контроля."
      ],
      "metadata": {
        "id": "4EVJ93t1eNbm"
      },
      "id": "4EVJ93t1eNbm"
    },
    {
      "cell_type": "markdown",
      "id": "b13ea8ee",
      "metadata": {
        "id": "b13ea8ee"
      },
      "source": [
        "### 4.2. Необходимо запросить у бота в Телеграме выборку полученного размера командой `/get_project2_sample {размер выборки}` и вписать <ins>код выборки</ins>:\n",
        "69945"
      ]
    },
    {
      "cell_type": "code",
      "source": [
        "control = pd.read_csv('Контроль 2.csv')\n",
        "test = pd.read_csv('Тест 2.csv')\n",
        "\n",
        "columns_mapping = {\n",
        "    'Возраст': 'age',\n",
        "    'Доход клиента': 'income',\n",
        "    'Вероятность банкротства': 'bankruptcy',\n",
        "    'Флаг утилизации счёта': 'utilization',\n",
        "    'Расходы': 'cost',\n",
        "    'PV услуги': 'PV_service',\n",
        "}\n",
        "\n",
        "# rename columns\n",
        "control = control.rename(columns=columns_mapping)\n",
        "test = test.rename(columns=columns_mapping)\n",
        "\n",
        "control.head(10)"
      ],
      "metadata": {
        "id": "F5c-oqIBjVJS",
        "outputId": "ebadf116-4c2b-414b-abca-2e2f9c5bea5e",
        "colab": {
          "base_uri": "https://localhost:8080/",
          "height": 363
        }
      },
      "id": "F5c-oqIBjVJS",
      "execution_count": null,
      "outputs": [
        {
          "output_type": "execute_result",
          "data": {
            "text/plain": [
              "   ID  age        income  bankruptcy  utilization  cost  PV КК  PV_service  \\\n",
              "0   0   53  20720.666140    0.022005            1   257   7846        1340   \n",
              "1   1   70  23235.568827    0.018291            1   274   5720        1436   \n",
              "2   2   22  28091.912676    0.218163            1   191   7054        2154   \n",
              "3   3   24  30877.905784    0.056401            1   309   7722        2621   \n",
              "4   4   60  70623.587018    0.086901            1   607   5684        3317   \n",
              "5   5   58  21453.342731    0.346435            0    24      0           0   \n",
              "6   6   42  53572.777543    0.011187            1   733   9989        1425   \n",
              "7   7   49  22237.342242    0.018677            1   137   6903        2074   \n",
              "8   8   24  31033.415136    0.183788            1   405  10772        1663   \n",
              "9   9   24  20692.050933    0.157120            1   535   7278        1542   \n",
              "\n",
              "     NPV  \n",
              "0   8929  \n",
              "1   6882  \n",
              "2   9017  \n",
              "3  10034  \n",
              "4   8394  \n",
              "5    -24  \n",
              "6  10681  \n",
              "7   8840  \n",
              "8  12030  \n",
              "9   8285  "
            ],
            "text/html": [
              "\n",
              "  <div id=\"df-43eef32c-2f4a-4176-a459-f2bc8ce60844\">\n",
              "    <div class=\"colab-df-container\">\n",
              "      <div>\n",
              "<style scoped>\n",
              "    .dataframe tbody tr th:only-of-type {\n",
              "        vertical-align: middle;\n",
              "    }\n",
              "\n",
              "    .dataframe tbody tr th {\n",
              "        vertical-align: top;\n",
              "    }\n",
              "\n",
              "    .dataframe thead th {\n",
              "        text-align: right;\n",
              "    }\n",
              "</style>\n",
              "<table border=\"1\" class=\"dataframe\">\n",
              "  <thead>\n",
              "    <tr style=\"text-align: right;\">\n",
              "      <th></th>\n",
              "      <th>ID</th>\n",
              "      <th>age</th>\n",
              "      <th>income</th>\n",
              "      <th>bankruptcy</th>\n",
              "      <th>utilization</th>\n",
              "      <th>cost</th>\n",
              "      <th>PV КК</th>\n",
              "      <th>PV_service</th>\n",
              "      <th>NPV</th>\n",
              "    </tr>\n",
              "  </thead>\n",
              "  <tbody>\n",
              "    <tr>\n",
              "      <th>0</th>\n",
              "      <td>0</td>\n",
              "      <td>53</td>\n",
              "      <td>20720.666140</td>\n",
              "      <td>0.022005</td>\n",
              "      <td>1</td>\n",
              "      <td>257</td>\n",
              "      <td>7846</td>\n",
              "      <td>1340</td>\n",
              "      <td>8929</td>\n",
              "    </tr>\n",
              "    <tr>\n",
              "      <th>1</th>\n",
              "      <td>1</td>\n",
              "      <td>70</td>\n",
              "      <td>23235.568827</td>\n",
              "      <td>0.018291</td>\n",
              "      <td>1</td>\n",
              "      <td>274</td>\n",
              "      <td>5720</td>\n",
              "      <td>1436</td>\n",
              "      <td>6882</td>\n",
              "    </tr>\n",
              "    <tr>\n",
              "      <th>2</th>\n",
              "      <td>2</td>\n",
              "      <td>22</td>\n",
              "      <td>28091.912676</td>\n",
              "      <td>0.218163</td>\n",
              "      <td>1</td>\n",
              "      <td>191</td>\n",
              "      <td>7054</td>\n",
              "      <td>2154</td>\n",
              "      <td>9017</td>\n",
              "    </tr>\n",
              "    <tr>\n",
              "      <th>3</th>\n",
              "      <td>3</td>\n",
              "      <td>24</td>\n",
              "      <td>30877.905784</td>\n",
              "      <td>0.056401</td>\n",
              "      <td>1</td>\n",
              "      <td>309</td>\n",
              "      <td>7722</td>\n",
              "      <td>2621</td>\n",
              "      <td>10034</td>\n",
              "    </tr>\n",
              "    <tr>\n",
              "      <th>4</th>\n",
              "      <td>4</td>\n",
              "      <td>60</td>\n",
              "      <td>70623.587018</td>\n",
              "      <td>0.086901</td>\n",
              "      <td>1</td>\n",
              "      <td>607</td>\n",
              "      <td>5684</td>\n",
              "      <td>3317</td>\n",
              "      <td>8394</td>\n",
              "    </tr>\n",
              "    <tr>\n",
              "      <th>5</th>\n",
              "      <td>5</td>\n",
              "      <td>58</td>\n",
              "      <td>21453.342731</td>\n",
              "      <td>0.346435</td>\n",
              "      <td>0</td>\n",
              "      <td>24</td>\n",
              "      <td>0</td>\n",
              "      <td>0</td>\n",
              "      <td>-24</td>\n",
              "    </tr>\n",
              "    <tr>\n",
              "      <th>6</th>\n",
              "      <td>6</td>\n",
              "      <td>42</td>\n",
              "      <td>53572.777543</td>\n",
              "      <td>0.011187</td>\n",
              "      <td>1</td>\n",
              "      <td>733</td>\n",
              "      <td>9989</td>\n",
              "      <td>1425</td>\n",
              "      <td>10681</td>\n",
              "    </tr>\n",
              "    <tr>\n",
              "      <th>7</th>\n",
              "      <td>7</td>\n",
              "      <td>49</td>\n",
              "      <td>22237.342242</td>\n",
              "      <td>0.018677</td>\n",
              "      <td>1</td>\n",
              "      <td>137</td>\n",
              "      <td>6903</td>\n",
              "      <td>2074</td>\n",
              "      <td>8840</td>\n",
              "    </tr>\n",
              "    <tr>\n",
              "      <th>8</th>\n",
              "      <td>8</td>\n",
              "      <td>24</td>\n",
              "      <td>31033.415136</td>\n",
              "      <td>0.183788</td>\n",
              "      <td>1</td>\n",
              "      <td>405</td>\n",
              "      <td>10772</td>\n",
              "      <td>1663</td>\n",
              "      <td>12030</td>\n",
              "    </tr>\n",
              "    <tr>\n",
              "      <th>9</th>\n",
              "      <td>9</td>\n",
              "      <td>24</td>\n",
              "      <td>20692.050933</td>\n",
              "      <td>0.157120</td>\n",
              "      <td>1</td>\n",
              "      <td>535</td>\n",
              "      <td>7278</td>\n",
              "      <td>1542</td>\n",
              "      <td>8285</td>\n",
              "    </tr>\n",
              "  </tbody>\n",
              "</table>\n",
              "</div>\n",
              "      <button class=\"colab-df-convert\" onclick=\"convertToInteractive('df-43eef32c-2f4a-4176-a459-f2bc8ce60844')\"\n",
              "              title=\"Convert this dataframe to an interactive table.\"\n",
              "              style=\"display:none;\">\n",
              "        \n",
              "  <svg xmlns=\"http://www.w3.org/2000/svg\" height=\"24px\"viewBox=\"0 0 24 24\"\n",
              "       width=\"24px\">\n",
              "    <path d=\"M0 0h24v24H0V0z\" fill=\"none\"/>\n",
              "    <path d=\"M18.56 5.44l.94 2.06.94-2.06 2.06-.94-2.06-.94-.94-2.06-.94 2.06-2.06.94zm-11 1L8.5 8.5l.94-2.06 2.06-.94-2.06-.94L8.5 2.5l-.94 2.06-2.06.94zm10 10l.94 2.06.94-2.06 2.06-.94-2.06-.94-.94-2.06-.94 2.06-2.06.94z\"/><path d=\"M17.41 7.96l-1.37-1.37c-.4-.4-.92-.59-1.43-.59-.52 0-1.04.2-1.43.59L10.3 9.45l-7.72 7.72c-.78.78-.78 2.05 0 2.83L4 21.41c.39.39.9.59 1.41.59.51 0 1.02-.2 1.41-.59l7.78-7.78 2.81-2.81c.8-.78.8-2.07 0-2.86zM5.41 20L4 18.59l7.72-7.72 1.47 1.35L5.41 20z\"/>\n",
              "  </svg>\n",
              "      </button>\n",
              "      \n",
              "  <style>\n",
              "    .colab-df-container {\n",
              "      display:flex;\n",
              "      flex-wrap:wrap;\n",
              "      gap: 12px;\n",
              "    }\n",
              "\n",
              "    .colab-df-convert {\n",
              "      background-color: #E8F0FE;\n",
              "      border: none;\n",
              "      border-radius: 50%;\n",
              "      cursor: pointer;\n",
              "      display: none;\n",
              "      fill: #1967D2;\n",
              "      height: 32px;\n",
              "      padding: 0 0 0 0;\n",
              "      width: 32px;\n",
              "    }\n",
              "\n",
              "    .colab-df-convert:hover {\n",
              "      background-color: #E2EBFA;\n",
              "      box-shadow: 0px 1px 2px rgba(60, 64, 67, 0.3), 0px 1px 3px 1px rgba(60, 64, 67, 0.15);\n",
              "      fill: #174EA6;\n",
              "    }\n",
              "\n",
              "    [theme=dark] .colab-df-convert {\n",
              "      background-color: #3B4455;\n",
              "      fill: #D2E3FC;\n",
              "    }\n",
              "\n",
              "    [theme=dark] .colab-df-convert:hover {\n",
              "      background-color: #434B5C;\n",
              "      box-shadow: 0px 1px 3px 1px rgba(0, 0, 0, 0.15);\n",
              "      filter: drop-shadow(0px 1px 2px rgba(0, 0, 0, 0.3));\n",
              "      fill: #FFFFFF;\n",
              "    }\n",
              "  </style>\n",
              "\n",
              "      <script>\n",
              "        const buttonEl =\n",
              "          document.querySelector('#df-43eef32c-2f4a-4176-a459-f2bc8ce60844 button.colab-df-convert');\n",
              "        buttonEl.style.display =\n",
              "          google.colab.kernel.accessAllowed ? 'block' : 'none';\n",
              "\n",
              "        async function convertToInteractive(key) {\n",
              "          const element = document.querySelector('#df-43eef32c-2f4a-4176-a459-f2bc8ce60844');\n",
              "          const dataTable =\n",
              "            await google.colab.kernel.invokeFunction('convertToInteractive',\n",
              "                                                     [key], {});\n",
              "          if (!dataTable) return;\n",
              "\n",
              "          const docLinkHtml = 'Like what you see? Visit the ' +\n",
              "            '<a target=\"_blank\" href=https://colab.research.google.com/notebooks/data_table.ipynb>data table notebook</a>'\n",
              "            + ' to learn more about interactive tables.';\n",
              "          element.innerHTML = '';\n",
              "          dataTable['output_type'] = 'display_data';\n",
              "          await google.colab.output.renderOutput(dataTable, element);\n",
              "          const docLink = document.createElement('div');\n",
              "          docLink.innerHTML = docLinkHtml;\n",
              "          element.appendChild(docLink);\n",
              "        }\n",
              "      </script>\n",
              "    </div>\n",
              "  </div>\n",
              "  "
            ]
          },
          "metadata": {},
          "execution_count": 12
        }
      ]
    },
    {
      "cell_type": "markdown",
      "id": "f6945c8f",
      "metadata": {
        "id": "f6945c8f"
      },
      "source": [
        "### 5. Проверка на однородность, применение критерия. Принятие решения. Расписать подробно с аргументами."
      ]
    },
    {
      "cell_type": "code",
      "source": [
        "imp_crit = 0.05\n",
        "t, p_value = sp.stats.ttest_ind(test['NPV'], control['NPV'], alternative='greater', equal_var=False)\n",
        "print('p-value:', p_value)\n",
        "if (p_value <= imp_crit):\n",
        "  print(\"Новый алгоритм дал значимое улучшение\")\n",
        "  test_bankruptcy = test[test['utilization'] == 1]['bankruptcy'].mean()\n",
        "  control_bankruptcy = control[control['utilization'] == 1]['bankruptcy'].mean()\n",
        "  print('Средняя вероятность банкротства среди активных клиентов в тесте:', test_bankruptcy)\n",
        "  print('Средняя вероятность банкротства среди активных клиентов в контроле:', control_bankruptcy)\n",
        "\n",
        "  if (test_bankruptcy >= control_bankruptcy):\n",
        "    print(\"Риск банкротства среди активных клиентов увеличился, новый алгоритм необходимо доработать\")\n",
        "  else:\n",
        "    print(\"Контрольная метрика не ухудшилась, новый алгоритм можно запускать\")\n",
        "else:\n",
        "  print(\"Новый алгоритм не дал значимого улучшения\")"
      ],
      "metadata": {
        "id": "LVlEnA4DjWp5",
        "outputId": "a3f8b0e6-d491-4845-a93e-70da0d50c487",
        "colab": {
          "base_uri": "https://localhost:8080/"
        }
      },
      "id": "LVlEnA4DjWp5",
      "execution_count": null,
      "outputs": [
        {
          "output_type": "stream",
          "name": "stdout",
          "text": [
            "p-value: 0.35553308578870113\n",
            "Новый алгоритм не дал значимого улучшения\n"
          ]
        }
      ]
    },
    {
      "cell_type": "markdown",
      "source": [
        "Незначимые результаты"
      ],
      "metadata": {
        "id": "LvAbSzITgDPG"
      },
      "id": "LvAbSzITgDPG"
    }
  ],
  "metadata": {
    "kernelspec": {
      "display_name": "Python 3 (ipykernel)",
      "language": "python",
      "name": "python3"
    },
    "language_info": {
      "codemirror_mode": {
        "name": "ipython",
        "version": 3
      },
      "file_extension": ".py",
      "mimetype": "text/x-python",
      "name": "python",
      "nbconvert_exporter": "python",
      "pygments_lexer": "ipython3",
      "version": "3.9.7"
    },
    "colab": {
      "provenance": [],
      "toc_visible": true
    }
  },
  "nbformat": 4,
  "nbformat_minor": 5
}